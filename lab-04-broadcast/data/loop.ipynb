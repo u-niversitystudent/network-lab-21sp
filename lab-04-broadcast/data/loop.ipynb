{
 "metadata": {
  "language_info": {
   "codemirror_mode": {
    "name": "ipython",
    "version": 3
   },
   "file_extension": ".py",
   "mimetype": "text/x-python",
   "name": "python",
   "nbconvert_exporter": "python",
   "pygments_lexer": "ipython3",
   "version": "3.8.5"
  },
  "orig_nbformat": 2,
  "kernelspec": {
   "name": "python385jvsc74a57bd03baf0a13aeb427637864c923c626102087f8e1196172ac79b566f96e25547367",
   "display_name": "Python 3.8.5 64-bit ('base': conda)"
  }
 },
 "nbformat": 4,
 "nbformat_minor": 2,
 "cells": [
  {
   "cell_type": "code",
   "execution_count": 48,
   "metadata": {},
   "outputs": [],
   "source": [
    "import csv\n",
    "\n",
    "cnt_req_for_2 = 0  # who has 2? tell 1\n",
    "cnt_req_for_1 = 0  # who has 1? tell 2\n",
    "cnt_rps_from_2 = 0 # 2 is at xxx\n",
    "cnt_rps_from_1 = 0 # 1 is at xxx\n",
    "cnt_echo_req = 0\n",
    "cnt_echo_rpl = 0\n",
    "cnt_skip = 0\n"
   ]
  },
  {
   "cell_type": "code",
   "execution_count": 49,
   "metadata": {},
   "outputs": [],
   "source": [
    "filename = 'loop.csv'\n",
    "with open(filename) as f:\n",
    "    reader = csv.reader(f)\n",
    "    head_row = next(reader)\n",
    "    for row in reader:\n",
    "        if (row[6][0:len(\"Who has 10.0.0.2?\")] == \"Who has 10.0.0.2?\"):\n",
    "            cnt_req_for_2 += 1\n",
    "        elif (row[6][0:len(\"Who has 10.0.0.1?\")] == \"Who has 10.0.0.1?\"):\n",
    "            cnt_req_for_1 += 1\n",
    "        elif(row[6] == \"10.0.0.2 is at 00:00:00:00:00:02\"):\n",
    "            cnt_rps_from_2 += 1\n",
    "        elif(row[6] == \"10.0.0.1 is at 00:00:00:00:00:01\"):\n",
    "            cnt_rps_from_1 += 1\n",
    "        elif(row[6][12:19] == \"request\"):\n",
    "            cnt_echo_req += 1\n",
    "        elif(row[6][12:17] == \"reply\"):\n",
    "            cnt_echo_rpl += 1\n",
    "        else:\n",
    "            cnt_skip += 1"
   ]
  },
  {
   "cell_type": "code",
   "execution_count": 50,
   "metadata": {},
   "outputs": [
    {
     "output_type": "stream",
     "name": "stdout",
     "text": [
      "552    times: 'Who has 10.0.0.2? Tell 10.0.0.1'\n164    times: 'Who has 10.0.0.1? Tell 10.0.0.2'\n77585  times: '10.0.0.2 is at 00:00:00:00:00:02'\n11030  times: '10.0.0.1 is at 00:00:00:00:00:01'\n555    times: 'Echo (request) ...'\n79130  times: 'Echo (reply) ...'\n0      times: (other info)\n"
     ]
    }
   ],
   "source": [
    "# print results\n",
    "print(\"{:<6d}\".format(cnt_req_for_2)+\" times: 'Who has 10.0.0.2? Tell 10.0.0.1'\")\n",
    "print(\"{:<6d}\".format(cnt_req_for_1)+\" times: 'Who has 10.0.0.1? Tell 10.0.0.2'\")\n",
    "print(\"{:<6d}\".format(cnt_rps_from_2)+\" times: '10.0.0.2 is at 00:00:00:00:00:02'\")\n",
    "print(\"{:<6d}\".format(cnt_rps_from_1)+\" times: '10.0.0.1 is at 00:00:00:00:00:01'\")\n",
    "print(\"{:<6d}\".format(cnt_echo_req)+\" times: 'Echo (request) ...'\")\n",
    "print(\"{:<6d}\".format(cnt_echo_rpl)+\" times: 'Echo (reply) ...'\")\n",
    "print(\"{:<6d}\".format(cnt_skip)+\" times: (other info)\")"
   ]
  },
  {
   "cell_type": "code",
   "execution_count": null,
   "metadata": {},
   "outputs": [],
   "source": []
  }
 ]
}